{
    "cells": [
        {
            "cell_type": "markdown",
            "metadata": {},
            "source": [
                "# Explore here\n",
                "\n",
                "It's recommended to use this notebook for exploration purposes."
            ]
        },
        {
            "cell_type": "code",
            "execution_count": 1,
            "metadata": {},
            "outputs": [
                {
                    "name": "stdout",
                    "output_type": "stream",
                    "text": [
                        "    Year  Revenue\n",
                        "0   2024    97.15\n",
                        "1   2023    96.77\n",
                        "2   2022    81.46\n",
                        "3   2021    53.82\n",
                        "4   2020    31.53\n",
                        "5   2019    24.57\n",
                        "6   2018    21.46\n",
                        "7   2017    11.75\n",
                        "8   2016     7.00\n",
                        "9   2015     4.04\n",
                        "10  2014     3.19\n",
                        "11  2013     2.01\n",
                        "12  2012     0.41\n",
                        "13  2011     0.20\n",
                        "14  2010     0.11\n",
                        "15  2009     0.11\n"
                    ]
                },
                {
                    "data": {
                        "image/png": "[encoded data removed]",
                        "text/plain": [
                            "<Figure size 1000x500 with 1 Axes>"
                        ]
                    },
                    "metadata": {},
                    "output_type": "display_data"
                }
            ],
            "source": [
                "import os\n",
                "from bs4 import BeautifulSoup\n",
                "import requests\n",
                "import time\n",
                "import sqlite3\n",
                "import matplotlib.pyplot as plt\n",
                "import seaborn as sns\n",
                "import pandas as pd\n",
                "import urllib.request\n",
                "\n",
                "# Get request to the url\n",
                "url = 'https://companiesmarketcap.com/tesla/revenue/'\n",
                "response = requests.get(url)\n",
                "\n",
                "# Verify if the request is successful\n",
                "if response.status_code==200:\n",
                "  # Scrape information from web page with BeautifulSoup\n",
                "  soup = BeautifulSoup(response.content, 'html.parser')\n",
                "  \n",
                "# Get revenue data\n",
                "revenue = soup.find(class_='table')\n",
                "\n",
                "data=[]\n",
                "for x in revenue.find_all(\"td\"):\n",
                "  data.append(x.get_text())\n",
                "\n",
                "# Select only years data\n",
                "years= data[::3]\n",
                "\n",
                "# Get the first 4 characters of each year and convert to integer\n",
                "for i in range(len(years)):\n",
                "  years[i] = int(years[i][0:4])\n",
                "\n",
                "# Select only revenue data\n",
                "revenue_data= data[1::3]\n",
                "\n",
                "# Get the second to the sixth characters of each revenue data and convert to float\n",
                "for i in range(len(revenue_data)):\n",
                "  revenue_data[i] = float(revenue_data[i][1:6])\n",
                "\n",
                "# Create a dictionary with the two lists\n",
                "result = {'Year': years, 'Revenue': revenue_data}\n",
                "\n",
                "# Convert the dictionary to a DataFrame\n",
                "df = pd.DataFrame(result)\n",
                "print(df)\n",
                "\n",
                "# Bar chart\n",
                "plt.figure(figsize = (10, 5))\n",
                "plt.bar(years, revenue_data)\n",
                "plt.title('Revenue per Year')\n",
                "plt.xlabel('Year')\n",
                "plt.ylabel('Revenue (B$)')\n",
                "plt.ylim(0, 100)  # y-axis limits\n",
                "plt.show()\n",
                "\n",
                "\n"
            ]
        }
    ],
    "metadata": {
        "kernelspec": {
            "display_name": "Python 3",
            "language": "python",
            "name": "python3"
        },
        "language_info": {
            "codemirror_mode": {
                "name": "ipython",
                "version": 3
            },
            "file_extension": ".py",
            "mimetype": "text/x-python",
            "name": "python",
            "nbconvert_exporter": "python",
            "pygments_lexer": "ipython3",
            "version": "3.11.4"
        },
        "orig_nbformat": 4
    },
    "nbformat": 4,
    "nbformat_minor": 2
}
